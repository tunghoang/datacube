{
 "cells": [
  {
   "cell_type": "code",
   "execution_count": 5,
   "id": "fd21415f-c898-4357-ba11-54a5247c1ee1",
   "metadata": {},
   "outputs": [],
   "source": [
    "import sys\n",
    "if '/' not in sys.path:\n",
    "    sys.path.append('/')\n",
    "from Src.add_product import *"
   ]
  }
 ],
 "metadata": {
  "kernelspec": {
   "display_name": "Python 3 (ipykernel)",
   "language": "python",
   "name": "python3"
  },
  "language_info": {
   "codemirror_mode": {
    "name": "ipython",
    "version": 3
   },
   "file_extension": ".py",
   "mimetype": "text/x-python",
   "name": "python",
   "nbconvert_exporter": "python",
   "pygments_lexer": "ipython3",
   "version": "3.10.12"
  }
 },
 "nbformat": 4,
 "nbformat_minor": 5
}
